{
  "nbformat": 4,
  "nbformat_minor": 0,
  "metadata": {
    "colab": {
      "name": "dojopython1301.ipynb",
      "provenance": [],
      "include_colab_link": true
    },
    "kernelspec": {
      "name": "python3",
      "display_name": "Python 3"
    },
    "language_info": {
      "name": "python"
    }
  },
  "cells": [
    {
      "cell_type": "markdown",
      "metadata": {
        "id": "view-in-github",
        "colab_type": "text"
      },
      "source": [
        "<a href=\"https://colab.research.google.com/github/Pedro4010/dojopython/blob/main/dojopython1301.ipynb\" target=\"_parent\"><img src=\"https://colab.research.google.com/assets/colab-badge.svg\" alt=\"Open In Colab\"/></a>"
      ]
    },
    {
      "cell_type": "markdown",
      "source": [
        "### DojoPuzzles.com\n"
      ],
      "metadata": {
        "id": "6fJB4oqHLL0P"
      }
    },
    {
      "cell_type": "markdown",
      "source": [
        "1) Neste problema, você deverá exibir uma lista de 1 a 100, um em cada linha, com as seguintes exceções:\n",
        "\n",
        "Números divisíveis por 3 deve aparecer como 'Fizz' ao invés do número;\n",
        "\n",
        "Números divisíveis por 5 devem aparecer como 'Buzz' ao invés do número;\n",
        "\n",
        "Números divisíveis por 3 e 5 devem aparecer como 'FizzBuzz' ao invés do número'."
      ],
      "metadata": {
        "id": "bC92Elc8LPWc"
      }
    },
    {
      "cell_type": "code",
      "source": [
        "for i in range(1,101):\n",
        "  if i % 3 == 0 and i % 5 == 0:\n",
        "    print('FizzBuzz')\n",
        "  elif i % 3 == 0:\n",
        "    print('Fizz')\n",
        "  elif i % 3 == 0:\n",
        "    print('Buzz')\n",
        "  else:\n",
        "    print(i)"
      ],
      "metadata": {
        "id": "nBJBehgNXwRF",
        "colab": {
          "base_uri": "https://localhost:8080/"
        },
        "outputId": "0a6c8af0-1a6a-4830-c9e9-8499da4e3bd8"
      },
      "execution_count": null,
      "outputs": [
        {
          "output_type": "stream",
          "name": "stdout",
          "text": [
            "1\n",
            "2\n",
            "Fizz\n",
            "4\n",
            "5\n",
            "Fizz\n",
            "7\n",
            "8\n",
            "Fizz\n",
            "10\n",
            "11\n",
            "Fizz\n",
            "13\n",
            "14\n",
            "FizzBuzz\n",
            "16\n",
            "17\n",
            "Fizz\n",
            "19\n",
            "20\n",
            "Fizz\n",
            "22\n",
            "23\n",
            "Fizz\n",
            "25\n",
            "26\n",
            "Fizz\n",
            "28\n",
            "29\n",
            "FizzBuzz\n",
            "31\n",
            "32\n",
            "Fizz\n",
            "34\n",
            "35\n",
            "Fizz\n",
            "37\n",
            "38\n",
            "Fizz\n",
            "40\n",
            "41\n",
            "Fizz\n",
            "43\n",
            "44\n",
            "FizzBuzz\n",
            "46\n",
            "47\n",
            "Fizz\n",
            "49\n",
            "50\n",
            "Fizz\n",
            "52\n",
            "53\n",
            "Fizz\n",
            "55\n",
            "56\n",
            "Fizz\n",
            "58\n",
            "59\n",
            "FizzBuzz\n",
            "61\n",
            "62\n",
            "Fizz\n",
            "64\n",
            "65\n",
            "Fizz\n",
            "67\n",
            "68\n",
            "Fizz\n",
            "70\n",
            "71\n",
            "Fizz\n",
            "73\n",
            "74\n",
            "FizzBuzz\n",
            "76\n",
            "77\n",
            "Fizz\n",
            "79\n",
            "80\n",
            "Fizz\n",
            "82\n",
            "83\n",
            "Fizz\n",
            "85\n",
            "86\n",
            "Fizz\n",
            "88\n",
            "89\n",
            "FizzBuzz\n",
            "91\n",
            "92\n",
            "Fizz\n",
            "94\n",
            "95\n",
            "Fizz\n",
            "97\n",
            "98\n",
            "Fizz\n",
            "100\n"
          ]
        }
      ]
    },
    {
      "cell_type": "markdown",
      "source": [
        "### donuts\n",
        "\n",
        "Dado um contador inteiro do numero de donuts, retorne uma string com o formato 'Number of donuts: <count>' onde <count> é o numero recebido. \n",
        "\n",
        "Entretanto, se o contador for 10 ou mais, use a palavra 'many' ao invés do contador.\n",
        "\n",
        "    Exemplo: \n",
        "    donuts(5) retorna 'Number of donuts: 5'\n",
        "    donuts(23) retorna 'Number of donuts: many'\n"
      ],
      "metadata": {
        "id": "5CTpa7YKLTU0"
      }
    },
    {
      "cell_type": "code",
      "source": [
        "def donuts(num):\n",
        "  if type(num) == int:\n",
        "    if num >= 10:\n",
        "       num == 'many'\n",
        "    else:\n",
        "      print('Number of donuts:{num}')\n",
        "donuts(40)\n"
      ],
      "metadata": {
        "id": "OAcfN18OXx-V"
      },
      "execution_count": null,
      "outputs": []
    },
    {
      "cell_type": "markdown",
      "source": [
        "### both_ends\n",
        "\n",
        "Dada uma string s, retorne uma string feita com os dois primeiros e os dois ultimos caracteres da string original.\n",
        "\n",
        "    Exemplo: \n",
        "    'spring' retorna 'spng'. Entretanto, se o tamanho da string for menor que 2, retorne uma string vazia."
      ],
      "metadata": {
        "id": "gLrdTU6aOyvT"
      }
    },
    {
      "cell_type": "code",
      "source": [
        "def both_ends(palavra):\n",
        "  if len(palavra) > 2:\n",
        "    return palavra[:2] + palavra[-2:]\n",
        "  else:\n",
        "    return ''\n",
        "\n",
        "both_ends('melancia')"
      ],
      "metadata": {
        "id": "JoAlEUvQXzG2",
        "colab": {
          "base_uri": "https://localhost:8080/",
          "height": 35
        },
        "outputId": "33e43916-8e57-4e69-e441-e2189cfb7b10"
      },
      "execution_count": null,
      "outputs": [
        {
          "output_type": "execute_result",
          "data": {
            "application/vnd.google.colaboratory.intrinsic+json": {
              "type": "string"
            },
            "text/plain": [
              "'meia'"
            ]
          },
          "metadata": {},
          "execution_count": 15
        }
      ]
    },
    {
      "cell_type": "markdown",
      "source": [
        "### not_bad\n",
        "\n",
        "Dada uma string, encontre a primeira aparição das substrings 'not bad', substitua por 'good' e retorne a string resultante.\n",
        "\n",
        "    Exemplo: \n",
        "    'The dinner is not bad!' retorna 'The dinner is good!'"
      ],
      "metadata": {
        "id": "8aMOqUDBQaju"
      }
    },
    {
      "cell_type": "code",
      "source": [
        "def not_bad(word):\n",
        "  return word.replace('not bad','good')\n",
        "not_bad('The dinner is not bad')"
      ],
      "metadata": {
        "id": "FlNkNCo4X1K6",
        "colab": {
          "base_uri": "https://localhost:8080/",
          "height": 35
        },
        "outputId": "ab502695-adeb-4cf8-d2f3-00c311d59075"
      },
      "execution_count": null,
      "outputs": [
        {
          "output_type": "execute_result",
          "data": {
            "application/vnd.google.colaboratory.intrinsic+json": {
              "type": "string"
            },
            "text/plain": [
              "'The dinner is good'"
            ]
          },
          "metadata": {},
          "execution_count": 18
        }
      ]
    },
    {
      "cell_type": "markdown",
      "source": [
        "### mix_up\n",
        "\n",
        "\n",
        "Dadas as strings a e b, retorne uma string com a e b separados por um espaço 'a b', além disso, troque os 2 primeiros caracteres das duas strings.\n",
        "\n",
        "    Exemplo:\n",
        "\n",
        "    'mix', 'pod' -> 'pox mid'\n",
        "    'dog, 'dinner' -> 'dig donner'\n",
        "\n",
        "Assuma que a e b tem tamanho 2 ou maior.\n"
      ],
      "metadata": {
        "id": "u4kSgXf_PN5n"
      }
    },
    {
      "cell_type": "code",
      "source": [
        ""
      ],
      "metadata": {
        "id": "3sI8uPJcX2wT"
      },
      "execution_count": null,
      "outputs": []
    },
    {
      "cell_type": "markdown",
      "source": [
        "### WordCount\n",
        "\n",
        "Faça um dicionário que armazene a contagem de palavras em uma lista"
      ],
      "metadata": {
        "id": "f5omVC04SV7y"
      }
    },
    {
      "cell_type": "code",
      "source": [
        ""
      ],
      "metadata": {
        "id": "yvufN8ymX521"
      },
      "execution_count": null,
      "outputs": []
    },
    {
      "cell_type": "markdown",
      "source": [
        "### Dicts"
      ],
      "metadata": {
        "id": "6b46dTOZSY-U"
      }
    },
    {
      "cell_type": "markdown",
      "source": [
        "Encontre palavras chaves em um dicionário e apresente o valor de cada palavra. Em seguida, utilizando um frase, faça o somatório de todos os valores das palavras chaves e apresente o resultado"
      ],
      "metadata": {
        "id": "VNnhKMpiVMNQ"
      }
    },
    {
      "cell_type": "code",
      "source": [
        ""
      ],
      "metadata": {
        "id": "FYEFO6OLWz4v"
      },
      "execution_count": null,
      "outputs": []
    }
  ]
}